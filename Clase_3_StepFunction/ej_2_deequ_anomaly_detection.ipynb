{
 "cells": [
  {
   "cell_type": "markdown",
   "id": "7fa632f8-2779-4039-bade-6ae18f0815dd",
   "metadata": {},
   "source": [
    "### Anomaly Detection Basic Tutorial"
   ]
  },
  {
   "cell_type": "code",
   "execution_count": 2,
   "id": "48abcee9-fec0-454b-84de-0f620640e3f8",
   "metadata": {},
   "outputs": [],
   "source": [
    "import os\n",
    "os.environ[\"SPARK_VERSION\"] = '3.3'\n",
    "os.environ[\"JAVA_HOME\"] = '/usr/lib/jvm/java-11-openjdk-amd64/'"
   ]
  },
  {
   "cell_type": "code",
   "execution_count": 9,
   "id": "b3a9fb14-ffff-4cfa-94af-aa02a7932424",
   "metadata": {
    "collapsed": true,
    "jupyter": {
     "outputs_hidden": true
    },
    "scrolled": true
   },
   "outputs": [
    {
     "name": "stdout",
     "output_type": "stream",
     "text": [
      "Requirement already satisfied: pydeequ==1.2.0 in /opt/conda/lib/python3.10/site-packages (1.2.0)\n",
      "Requirement already satisfied: numpy>=1.14.1 in /opt/conda/lib/python3.10/site-packages (from pydeequ==1.2.0) (1.26.4)\n",
      "Requirement already satisfied: pandas>=0.23.0 in /opt/conda/lib/python3.10/site-packages (from pydeequ==1.2.0) (2.1.4)\n",
      "Requirement already satisfied: python-dateutil>=2.8.2 in /opt/conda/lib/python3.10/site-packages (from pandas>=0.23.0->pydeequ==1.2.0) (2.9.0)\n",
      "Requirement already satisfied: pytz>=2020.1 in /opt/conda/lib/python3.10/site-packages (from pandas>=0.23.0->pydeequ==1.2.0) (2023.3)\n",
      "Requirement already satisfied: tzdata>=2022.1 in /opt/conda/lib/python3.10/site-packages (from pandas>=0.23.0->pydeequ==1.2.0) (2024.1)\n",
      "Requirement already satisfied: six>=1.5 in /opt/conda/lib/python3.10/site-packages (from python-dateutil>=2.8.2->pandas>=0.23.0->pydeequ==1.2.0) (1.16.0)\n",
      "Note: you may need to restart the kernel to use updated packages.\n"
     ]
    }
   ],
   "source": [
    "pip install pydeequ==1.2.0"
   ]
  },
  {
   "cell_type": "code",
   "execution_count": 10,
   "id": "801ab5d9-5ea4-47a7-97da-82dc9e43309b",
   "metadata": {
    "collapsed": true,
    "jupyter": {
     "outputs_hidden": true
    },
    "scrolled": true
   },
   "outputs": [
    {
     "name": "stdout",
     "output_type": "stream",
     "text": [
      "Requirement already satisfied: pyspark in /opt/conda/lib/python3.10/site-packages (3.3.0)\n",
      "Requirement already satisfied: py4j==0.10.9.5 in /opt/conda/lib/python3.10/site-packages (from pyspark) (0.10.9.5)\n",
      "Note: you may need to restart the kernel to use updated packages.\n"
     ]
    }
   ],
   "source": [
    "pip install pyspark"
   ]
  },
  {
   "cell_type": "code",
   "execution_count": 11,
   "id": "80e14cec-051d-4f2a-947f-e36d75ea3d95",
   "metadata": {
    "collapsed": true,
    "jupyter": {
     "outputs_hidden": true
    },
    "scrolled": true
   },
   "outputs": [
    {
     "name": "stdout",
     "output_type": "stream",
     "text": [
      "Requirement already satisfied: sagemaker_pyspark in /opt/conda/lib/python3.10/site-packages (1.4.5)\n",
      "Requirement already satisfied: pyspark==3.3.0 in /opt/conda/lib/python3.10/site-packages (from sagemaker_pyspark) (3.3.0)\n",
      "Requirement already satisfied: numpy in /opt/conda/lib/python3.10/site-packages (from sagemaker_pyspark) (1.26.4)\n",
      "Requirement already satisfied: py4j==0.10.9.5 in /opt/conda/lib/python3.10/site-packages (from pyspark==3.3.0->sagemaker_pyspark) (0.10.9.5)\n",
      "Note: you may need to restart the kernel to use updated packages.\n"
     ]
    }
   ],
   "source": [
    "pip install sagemaker_pyspark"
   ]
  },
  {
   "cell_type": "code",
   "execution_count": 21,
   "id": "1cc72c96-98a6-4568-bc76-60ce1aa5954d",
   "metadata": {},
   "outputs": [],
   "source": [
    "### Ejemplo de Anomaly detection"
   ]
  },
  {
   "cell_type": "code",
   "execution_count": 12,
   "id": "786bd84b-288e-4f07-8a40-267f26aa4dfc",
   "metadata": {
    "scrolled": true
   },
   "outputs": [],
   "source": [
    "from pyspark.sql import SparkSession, Row, DataFrame\n",
    "import pandas as pd\n",
    "import sagemaker_pyspark\n",
    "\n",
    "import pydeequ\n",
    "\n",
    "classpath = \":\".join(sagemaker_pyspark.classpath_jars())\n",
    "\n",
    "spark = (SparkSession\n",
    "    .builder\n",
    "    .config(\"spark.driver.extraClassPath\", classpath)\n",
    "    .config(\"spark.jars.packages\", pydeequ.deequ_maven_coord)\n",
    "    .config(\"spark.jars.excludes\", pydeequ.f2j_maven_coord)\n",
    "    .getOrCreate())\n",
    "sc = spark.sparkContext"
   ]
  },
  {
   "cell_type": "code",
   "execution_count": 13,
   "id": "e0c5d38f-82dc-4273-b47b-7a1be689a753",
   "metadata": {},
   "outputs": [],
   "source": [
    "from pydeequ.repository import *\n",
    "metricsRepository = InMemoryMetricsRepository(spark)"
   ]
  },
  {
   "cell_type": "code",
   "execution_count": 14,
   "id": "44faaf55-a559-40c5-a226-53210e9e21e7",
   "metadata": {},
   "outputs": [],
   "source": [
    "yesterdaysDataset = sc.parallelize([\n",
    "            Row(a=3, b=0,),\n",
    "            Row(a=3, b=5,)]).toDF()"
   ]
  },
  {
   "cell_type": "code",
   "execution_count": 15,
   "id": "69ff215d-3afb-4432-abe5-f889a535d3ae",
   "metadata": {},
   "outputs": [],
   "source": [
    "from pydeequ.verification import *\n",
    "\n",
    "yesterdaysKey = ResultKey(spark, ResultKey.current_milli_time() - 24 * 60 * 60 * 1000)\n"
   ]
  },
  {
   "cell_type": "code",
   "execution_count": 17,
   "id": "d56acc6d-cf92-4254-9544-b055adcb0a98",
   "metadata": {},
   "outputs": [
    {
     "name": "stderr",
     "output_type": "stream",
     "text": [
      "                                                                                \r"
     ]
    }
   ],
   "source": [
    "from pydeequ.anomaly_detection import *\n",
    "from pydeequ.analyzers import *\n",
    "\n",
    "prev_Result = VerificationSuite(spark).onData(yesterdaysDataset) \\\n",
    "    .useRepository(metricsRepository) \\\n",
    "    .saveOrAppendResult(yesterdaysKey) \\\n",
    "    .addAnomalyCheck(RelativeRateOfChangeStrategy(maxRateIncrease=2.0), Size()) \\\n",
    "    .run()"
   ]
  },
  {
   "cell_type": "code",
   "execution_count": 18,
   "id": "ccfa064f-b760-46a2-83cf-b0579f3a8c8b",
   "metadata": {},
   "outputs": [],
   "source": [
    "todaysDataset = sc.parallelize([\n",
    "            Row(a=3,  b=0,),\n",
    "            Row(a=3,  b=5,),\n",
    "            Row(a=100,b=5,),\n",
    "            Row(a=2,  b=30,),\n",
    "            Row(a=10, b=5,)]).toDF()"
   ]
  },
  {
   "cell_type": "code",
   "execution_count": 19,
   "id": "f9be88df-91bc-4d26-a2b8-bd1a6078df3b",
   "metadata": {},
   "outputs": [],
   "source": [
    "todaysKey = ResultKey(spark, ResultKey.current_milli_time())\n",
    "\n",
    "currResult = VerificationSuite(spark).onData(todaysDataset) \\\n",
    "    .useRepository(metricsRepository) \\\n",
    "    .saveOrAppendResult(todaysKey) \\\n",
    "    .addAnomalyCheck(RelativeRateOfChangeStrategy(maxRateIncrease=2.0), Size()) \\\n",
    "    .run()"
   ]
  },
  {
   "cell_type": "code",
   "execution_count": 20,
   "id": "d6d4214b-6b12-47b8-b329-8281caf275dd",
   "metadata": {},
   "outputs": [
    {
     "name": "stdout",
     "output_type": "stream",
     "text": [
      "Anomaly detected in the Size() metric!\n",
      "+-------+--------+----+-----+-------------+\n",
      "| entity|instance|name|value| dataset_date|\n",
      "+-------+--------+----+-----+-------------+\n",
      "|Dataset|       *|Size|  2.0|1725761063501|\n",
      "|Dataset|       *|Size|  5.0|1725847522832|\n",
      "+-------+--------+----+-----+-------------+\n",
      "\n"
     ]
    }
   ],
   "source": [
    "if (currResult.status != \"Success\"):\n",
    "    print(\"Anomaly detected in the Size() metric!\")\n",
    "    metricsRepository.load().forAnalyzers([Size()]).getSuccessMetricsAsDataFrame().show()"
   ]
  },
  {
   "cell_type": "code",
   "execution_count": null,
   "id": "a7b606dc-6255-467e-94f5-1f451704dec9",
   "metadata": {},
   "outputs": [],
   "source": []
  }
 ],
 "metadata": {
  "kernelspec": {
   "display_name": "Python 3 (ipykernel)",
   "language": "python",
   "name": "python3"
  },
  "language_info": {
   "codemirror_mode": {
    "name": "ipython",
    "version": 3
   },
   "file_extension": ".py",
   "mimetype": "text/x-python",
   "name": "python",
   "nbconvert_exporter": "python",
   "pygments_lexer": "ipython3",
   "version": "3.10.14"
  }
 },
 "nbformat": 4,
 "nbformat_minor": 5
}
