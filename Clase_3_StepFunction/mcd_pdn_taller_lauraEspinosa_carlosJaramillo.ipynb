{
 "cells": [
  {
   "cell_type": "markdown",
   "id": "f532c331-0bd9-40e3-a246-d4ef6cd9e3fe",
   "metadata": {},
   "source": [
    "#### Taller \n",
    "##### Procesamiento Distribuido en la Nube\n",
    "##### Laura Espinosa - Carlos Jaramillo\n"
   ]
  },
  {
   "cell_type": "markdown",
   "id": "a059b021-3878-42e0-affc-0537c15facf0",
   "metadata": {},
   "source": [
    "###### Configuracion inicial antes de correr Spark\n",
    "En un terminal, de SageMaker, se debe correr los siguientes comandos para garantizar que se tiene la configuracion adecuada de librerias\n",
    "```\n",
    "$sudo apt update\n",
    "$java --version\n",
    "$sudo apt install default-jre\n",
    "$java --version\n",
    "$update-alternatives --config java\n",
    "```\n",
    "\n",
    "Teniendo en cuenta la version de java y ruta , se debe configurar la variable de entorno\n",
    "\n",
    "```\n",
    "import os\n",
    "os.environ[\"SPARK_VERSION\"] = '3.3'\n",
    "os.environ[\"JAVA_HOME\"] = '/usr/lib/jvm/java-11-openjdk-amd64/'\n",
    "```\n",
    "\n",
    "Una vez se tenga esto listo, se pueden instalar las librerias con `pip install`"
   ]
  },
  {
   "cell_type": "code",
   "execution_count": 1,
   "id": "65792163-b14c-43df-a27a-2967687f0c12",
   "metadata": {},
   "outputs": [],
   "source": [
    "import os\n",
    "os.environ[\"SPARK_VERSION\"] = '3.3'\n",
    "os.environ[\"JAVA_HOME\"] = '/usr/lib/jvm/java-11-openjdk-amd64/'"
   ]
  },
  {
   "cell_type": "markdown",
   "id": "3b719a48-54c3-4431-8396-c400cb44898d",
   "metadata": {},
   "source": [
    "###### Instalacion de Librerias"
   ]
  },
  {
   "cell_type": "code",
   "execution_count": 2,
   "id": "36077c82-7183-4440-8d9f-7819a54f3f4e",
   "metadata": {
    "collapsed": true,
    "jupyter": {
     "outputs_hidden": true
    },
    "scrolled": true
   },
   "outputs": [
    {
     "name": "stdout",
     "output_type": "stream",
     "text": [
      "Requirement already satisfied: pydeequ==1.2.0 in /opt/conda/lib/python3.10/site-packages (1.2.0)\n",
      "Requirement already satisfied: numpy>=1.14.1 in /opt/conda/lib/python3.10/site-packages (from pydeequ==1.2.0) (1.26.4)\n",
      "Requirement already satisfied: pandas>=0.23.0 in /opt/conda/lib/python3.10/site-packages (from pydeequ==1.2.0) (2.1.4)\n",
      "Requirement already satisfied: python-dateutil>=2.8.2 in /opt/conda/lib/python3.10/site-packages (from pandas>=0.23.0->pydeequ==1.2.0) (2.9.0)\n",
      "Requirement already satisfied: pytz>=2020.1 in /opt/conda/lib/python3.10/site-packages (from pandas>=0.23.0->pydeequ==1.2.0) (2023.3)\n",
      "Requirement already satisfied: tzdata>=2022.1 in /opt/conda/lib/python3.10/site-packages (from pandas>=0.23.0->pydeequ==1.2.0) (2024.1)\n",
      "Requirement already satisfied: six>=1.5 in /opt/conda/lib/python3.10/site-packages (from python-dateutil>=2.8.2->pandas>=0.23.0->pydeequ==1.2.0) (1.16.0)\n",
      "Requirement already satisfied: pyspark in /opt/conda/lib/python3.10/site-packages (3.3.0)\n",
      "Requirement already satisfied: py4j==0.10.9.5 in /opt/conda/lib/python3.10/site-packages (from pyspark) (0.10.9.5)\n",
      "Requirement already satisfied: sagemaker_pyspark in /opt/conda/lib/python3.10/site-packages (1.4.5)\n",
      "Requirement already satisfied: pyspark==3.3.0 in /opt/conda/lib/python3.10/site-packages (from sagemaker_pyspark) (3.3.0)\n",
      "Requirement already satisfied: numpy in /opt/conda/lib/python3.10/site-packages (from sagemaker_pyspark) (1.26.4)\n",
      "Requirement already satisfied: py4j==0.10.9.5 in /opt/conda/lib/python3.10/site-packages (from pyspark==3.3.0->sagemaker_pyspark) (0.10.9.5)\n",
      "Requirement already satisfied: seaborn in /opt/conda/lib/python3.10/site-packages (0.13.2)\n",
      "Requirement already satisfied: numpy!=1.24.0,>=1.20 in /opt/conda/lib/python3.10/site-packages (from seaborn) (1.26.4)\n",
      "Requirement already satisfied: pandas>=1.2 in /opt/conda/lib/python3.10/site-packages (from seaborn) (2.1.4)\n",
      "Requirement already satisfied: matplotlib!=3.6.1,>=3.4 in /opt/conda/lib/python3.10/site-packages (from seaborn) (3.9.1)\n",
      "Requirement already satisfied: contourpy>=1.0.1 in /opt/conda/lib/python3.10/site-packages (from matplotlib!=3.6.1,>=3.4->seaborn) (1.2.1)\n",
      "Requirement already satisfied: cycler>=0.10 in /opt/conda/lib/python3.10/site-packages (from matplotlib!=3.6.1,>=3.4->seaborn) (0.12.1)\n",
      "Requirement already satisfied: fonttools>=4.22.0 in /opt/conda/lib/python3.10/site-packages (from matplotlib!=3.6.1,>=3.4->seaborn) (4.53.1)\n",
      "Requirement already satisfied: kiwisolver>=1.3.1 in /opt/conda/lib/python3.10/site-packages (from matplotlib!=3.6.1,>=3.4->seaborn) (1.4.5)\n",
      "Requirement already satisfied: packaging>=20.0 in /opt/conda/lib/python3.10/site-packages (from matplotlib!=3.6.1,>=3.4->seaborn) (24.1)\n",
      "Requirement already satisfied: pillow>=8 in /opt/conda/lib/python3.10/site-packages (from matplotlib!=3.6.1,>=3.4->seaborn) (10.4.0)\n",
      "Requirement already satisfied: pyparsing>=2.3.1 in /opt/conda/lib/python3.10/site-packages (from matplotlib!=3.6.1,>=3.4->seaborn) (3.1.2)\n",
      "Requirement already satisfied: python-dateutil>=2.7 in /opt/conda/lib/python3.10/site-packages (from matplotlib!=3.6.1,>=3.4->seaborn) (2.9.0)\n",
      "Requirement already satisfied: pytz>=2020.1 in /opt/conda/lib/python3.10/site-packages (from pandas>=1.2->seaborn) (2023.3)\n",
      "Requirement already satisfied: tzdata>=2022.1 in /opt/conda/lib/python3.10/site-packages (from pandas>=1.2->seaborn) (2024.1)\n",
      "Requirement already satisfied: six>=1.5 in /opt/conda/lib/python3.10/site-packages (from python-dateutil>=2.7->matplotlib!=3.6.1,>=3.4->seaborn) (1.16.0)\n"
     ]
    }
   ],
   "source": [
    "!pip install pydeequ==1.2.0\n",
    "!pip install pyspark\n",
    "!pip install sagemaker_pyspark\n",
    "!pip install seaborn"
   ]
  },
  {
   "cell_type": "markdown",
   "id": "6e42d345-dc5f-4943-9f82-0f3552a7e6bd",
   "metadata": {},
   "source": [
    "###### Uso de Librerias"
   ]
  },
  {
   "cell_type": "code",
   "execution_count": 3,
   "id": "06342f3d-edc4-4e72-8f64-ba8be14063b1",
   "metadata": {},
   "outputs": [],
   "source": [
    "import pyspark\n",
    "import sagemaker_pyspark\n",
    "import pydeequ"
   ]
  },
  {
   "cell_type": "code",
   "execution_count": 4,
   "id": "051a6dad-dbfa-4b5b-9574-ddd3c90fd4a2",
   "metadata": {},
   "outputs": [],
   "source": [
    "from pyspark.sql import SparkSession, Row, DataFrame\n",
    "import pandas as pd\n",
    "import sagemaker_pyspark\n",
    "\n",
    "from pyspark.sql.types import *\n",
    "from pyspark.sql.functions import *\n",
    "from pyspark.sql.functions import col, sum as spark_sum\n",
    "\n",
    "import pydeequ\n",
    "from pydeequ.repository import *\n",
    "from pydeequ.analyzers import *\n",
    "from pydeequ.verification import *\n",
    "from pydeequ.anomaly_detection import *\n",
    "from pydeequ.analyzers import *\n",
    "\n",
    "from pydeequ.profiles import *\n",
    "\n",
    "import matplotlib.pyplot as plt\n",
    "import seaborn as sns"
   ]
  },
  {
   "cell_type": "markdown",
   "id": "ce261d35-9abe-403a-bf8e-586ba3e868af",
   "metadata": {},
   "source": [
    "##### Creacion de la sesion de Spark\n",
    "utilizando las configuraciones de paquete maven"
   ]
  },
  {
   "cell_type": "code",
   "execution_count": 5,
   "id": "0cf664c8-09ec-435a-94d4-4a10490daa89",
   "metadata": {
    "collapsed": true,
    "jupyter": {
     "outputs_hidden": true
    }
   },
   "outputs": [
    {
     "name": "stdout",
     "output_type": "stream",
     "text": [
      ":: loading settings :: url = jar:file:/opt/conda/lib/python3.10/site-packages/pyspark/jars/ivy-2.5.0.jar!/org/apache/ivy/core/settings/ivysettings.xml\n"
     ]
    },
    {
     "name": "stderr",
     "output_type": "stream",
     "text": [
      "Ivy Default Cache set to: /home/sagemaker-user/.ivy2/cache\n",
      "The jars for the packages stored in: /home/sagemaker-user/.ivy2/jars\n",
      "com.amazon.deequ#deequ added as a dependency\n",
      ":: resolving dependencies :: org.apache.spark#spark-submit-parent-40344158-d4cd-4153-8a96-f02b1707119e;1.0\n",
      "\tconfs: [default]\n",
      "\tfound com.amazon.deequ#deequ;2.0.3-spark-3.3 in central\n",
      "\tfound org.scala-lang#scala-reflect;2.12.10 in central\n",
      "\tfound org.scalanlp#breeze_2.12;0.13.2 in central\n",
      "\tfound org.scalanlp#breeze-macros_2.12;0.13.2 in central\n",
      "\tfound com.github.fommil.netlib#core;1.1.2 in central\n",
      "\tfound net.sf.opencsv#opencsv;2.3 in central\n",
      "\tfound com.github.rwl#jtransforms;2.4.0 in central\n",
      "\tfound junit#junit;4.8.2 in central\n",
      "\tfound org.apache.commons#commons-math3;3.2 in central\n",
      "\tfound org.spire-math#spire_2.12;0.13.0 in central\n",
      "\tfound org.spire-math#spire-macros_2.12;0.13.0 in central\n",
      "\tfound org.typelevel#machinist_2.12;0.6.1 in central\n",
      "\tfound com.chuusai#shapeless_2.12;2.3.2 in central\n",
      "\tfound org.typelevel#macro-compat_2.12;1.1.1 in central\n",
      "\tfound org.slf4j#slf4j-api;1.7.5 in central\n",
      ":: resolution report :: resolve 1260ms :: artifacts dl 30ms\n",
      "\t:: modules in use:\n",
      "\tcom.amazon.deequ#deequ;2.0.3-spark-3.3 from central in [default]\n",
      "\tcom.chuusai#shapeless_2.12;2.3.2 from central in [default]\n",
      "\tcom.github.fommil.netlib#core;1.1.2 from central in [default]\n",
      "\tcom.github.rwl#jtransforms;2.4.0 from central in [default]\n",
      "\tjunit#junit;4.8.2 from central in [default]\n",
      "\tnet.sf.opencsv#opencsv;2.3 from central in [default]\n",
      "\torg.apache.commons#commons-math3;3.2 from central in [default]\n",
      "\torg.scala-lang#scala-reflect;2.12.10 from central in [default]\n",
      "\torg.scalanlp#breeze-macros_2.12;0.13.2 from central in [default]\n",
      "\torg.scalanlp#breeze_2.12;0.13.2 from central in [default]\n",
      "\torg.slf4j#slf4j-api;1.7.5 from central in [default]\n",
      "\torg.spire-math#spire-macros_2.12;0.13.0 from central in [default]\n",
      "\torg.spire-math#spire_2.12;0.13.0 from central in [default]\n",
      "\torg.typelevel#machinist_2.12;0.6.1 from central in [default]\n",
      "\torg.typelevel#macro-compat_2.12;1.1.1 from central in [default]\n",
      "\t:: evicted modules:\n",
      "\torg.scala-lang#scala-reflect;2.12.1 by [org.scala-lang#scala-reflect;2.12.10] in [default]\n",
      "\torg.scala-lang#scala-reflect;2.12.0 by [org.scala-lang#scala-reflect;2.12.10] in [default]\n",
      "\t---------------------------------------------------------------------\n",
      "\t|                  |            modules            ||   artifacts   |\n",
      "\t|       conf       | number| search|dwnlded|evicted|| number|dwnlded|\n",
      "\t---------------------------------------------------------------------\n",
      "\t|      default     |   17  |   0   |   0   |   2   ||   15  |   0   |\n",
      "\t---------------------------------------------------------------------\n",
      ":: retrieving :: org.apache.spark#spark-submit-parent-40344158-d4cd-4153-8a96-f02b1707119e\n",
      "\tconfs: [default]\n",
      "\t0 artifacts copied, 15 already retrieved (0kB/26ms)\n"
     ]
    },
    {
     "name": "stdout",
     "output_type": "stream",
     "text": [
      "24/09/09 03:52:26 WARN NativeCodeLoader: Unable to load native-hadoop library for your platform... using builtin-java classes where applicable\n"
     ]
    },
    {
     "name": "stderr",
     "output_type": "stream",
     "text": [
      "Setting default log level to \"WARN\".\n",
      "To adjust logging level use sc.setLogLevel(newLevel). For SparkR, use setLogLevel(newLevel).\n"
     ]
    }
   ],
   "source": [
    "classpath = \":\".join(sagemaker_pyspark.classpath_jars())\n",
    "\n",
    "spark = (SparkSession\n",
    "    .builder\n",
    "    .config(\"spark.driver.extraClassPath\", classpath)\n",
    "    .config(\"spark.jars.packages\", pydeequ.deequ_maven_coord)\n",
    "    .config(\"spark.jars.excludes\", pydeequ.f2j_maven_coord)\n",
    "    .getOrCreate())"
   ]
  },
  {
   "cell_type": "code",
   "execution_count": 6,
   "id": "15447924-a7ab-4229-97b8-f180ee208b99",
   "metadata": {},
   "outputs": [],
   "source": [
    "# Programmatic way to define a schema\n",
    "tesla_schema = StructType([StructField('VIN', StringType(), True),\n",
    " StructField('County', StringType(), True),\n",
    " StructField('City', StringType(), True),#IntegerType\n",
    " StructField('State', StringType(), True),\n",
    " StructField('Postal_Code', IntegerType(), True),\n",
    " StructField('Model_Year', IntegerType(), True),\n",
    " StructField('Make', StringType(), True),\n",
    " StructField('Model', StringType(), True),\n",
    " StructField('Electric_Vehicle_Type', StringType(), True),\n",
    " StructField('CAFV', StringType(), True),\n",
    " StructField('Electric_Range', IntegerType(), True),\n",
    " StructField('Base_MSRP', IntegerType(), True),\n",
    " StructField('Legislative_District', IntegerType(), True),\n",
    " StructField('DOL_Vehicle_ID', IntegerType(), True),\n",
    " StructField('Vehicle_Location', StringType(), True),\n",
    " StructField('Electric_Utility', StringType(), True),\n",
    " StructField('2020_Census_Tract', LongType(), True)])"
   ]
  },
  {
   "cell_type": "code",
   "execution_count": 7,
   "id": "e44cb805-157f-4029-9ffa-197c2e00eb26",
   "metadata": {},
   "outputs": [],
   "source": [
    "#csv_url = \"https://raw.githubusercontent.com/carlosjara/MCD_PDN/main/Clase_3_StepFunction/data/Electric_Vehicle_Population_Data.csv\"\n",
    "#falla al traerlo de git, cargar \"manualmente\" \n",
    "df = spark.read.csv(\"data/Electric_Vehicle_Population_Data.csv\", header=True,schema=tesla_schema)"
   ]
  },
  {
   "cell_type": "code",
   "execution_count": 8,
   "id": "572be25f-8df8-48cf-957f-842bd294522d",
   "metadata": {},
   "outputs": [
    {
     "name": "stdout",
     "output_type": "stream",
     "text": [
      "root\n",
      " |-- VIN: string (nullable = true)\n",
      " |-- County: string (nullable = true)\n",
      " |-- City: string (nullable = true)\n",
      " |-- State: string (nullable = true)\n",
      " |-- Postal_Code: integer (nullable = true)\n",
      " |-- Model_Year: integer (nullable = true)\n",
      " |-- Make: string (nullable = true)\n",
      " |-- Model: string (nullable = true)\n",
      " |-- Electric_Vehicle_Type: string (nullable = true)\n",
      " |-- CAFV: string (nullable = true)\n",
      " |-- Electric_Range: integer (nullable = true)\n",
      " |-- Base_MSRP: integer (nullable = true)\n",
      " |-- Legislative_District: integer (nullable = true)\n",
      " |-- DOL_Vehicle_ID: integer (nullable = true)\n",
      " |-- Vehicle_Location: string (nullable = true)\n",
      " |-- Electric_Utility: string (nullable = true)\n",
      " |-- 2020_Census_Tract: long (nullable = true)\n",
      "\n",
      "None\n"
     ]
    }
   ],
   "source": [
    "print(df.printSchema())"
   ]
  },
  {
   "cell_type": "code",
   "execution_count": 9,
   "id": "e2aab923-8058-4735-a61b-d0bda3b18429",
   "metadata": {
    "collapsed": true,
    "jupyter": {
     "outputs_hidden": true
    },
    "scrolled": true
   },
   "outputs": [
    {
     "name": "stderr",
     "output_type": "stream",
     "text": [
      "[Stage 0:>                                                          (0 + 1) / 1]\r"
     ]
    },
    {
     "name": "stdout",
     "output_type": "stream",
     "text": [
      "24/09/09 03:52:47 WARN CSVHeaderChecker: CSV header does not conform to the schema.\n",
      " Header: VIN (1-10), County, City, State, Postal Code, Model Year, Make, Model, Electric Vehicle Type, Clean Alternative Fuel Vehicle (CAFV) Eligibility, Electric Range, Base MSRP, Legislative District, DOL Vehicle ID, Vehicle Location, Electric Utility, 2020 Census Tract\n",
      " Schema: VIN, County, City, State, Postal_Code, Model_Year, Make, Model, Electric_Vehicle_Type, CAFV, Electric_Range, Base_MSRP, Legislative_District, DOL_Vehicle_ID, Vehicle_Location, Electric_Utility, 2020_Census_Tract\n",
      "Expected: VIN but found: VIN (1-10)\n",
      "CSV file: file:///home/sagemaker-user/data/Electric_Vehicle_Population_Data.csv\n"
     ]
    },
    {
     "name": "stderr",
     "output_type": "stream",
     "text": [
      "                                                                                \r"
     ]
    },
    {
     "data": {
      "text/plain": [
       "[Row(VIN='5YJ3E1EB0J', County='Thurston', City='Olympia', State='WA', Postal_Code=98512, Model_Year=2018, Make='TESLA', Model='MODEL 3', Electric_Vehicle_Type='Battery Electric Vehicle (BEV)', CAFV='Clean Alternative Fuel Vehicle Eligible', Electric_Range=215, Base_MSRP=0, Legislative_District=35, DOL_Vehicle_ID=104823078, Vehicle_Location='POINT (-122.957046 46.991391)', Electric_Utility='PUGET SOUND ENERGY INC', 2020_Census_Tract=53067012730),\n",
       " Row(VIN='WA1AAAGE9M', County='Kitsap', City='Port Orchard', State='WA', Postal_Code=98367, Model_Year=2021, Make='AUDI', Model='E-TRON', Electric_Vehicle_Type='Battery Electric Vehicle (BEV)', CAFV='Clean Alternative Fuel Vehicle Eligible', Electric_Range=222, Base_MSRP=0, Legislative_District=35, DOL_Vehicle_ID=156660507, Vehicle_Location='POINT (-122.6530052 47.4739066)', Electric_Utility='PUGET SOUND ENERGY INC', 2020_Census_Tract=53035092901),\n",
       " Row(VIN='5YJ3E1EA2J', County='Yakima', City='Yakima', State='WA', Postal_Code=98902, Model_Year=2018, Make='TESLA', Model='MODEL 3', Electric_Vehicle_Type='Battery Electric Vehicle (BEV)', CAFV='Clean Alternative Fuel Vehicle Eligible', Electric_Range=215, Base_MSRP=0, Legislative_District=14, DOL_Vehicle_ID=269374108, Vehicle_Location='POINT (-120.530331 46.59534)', Electric_Utility='PACIFICORP', 2020_Census_Tract=53077000500),\n",
       " Row(VIN='5YJ3E1EA4N', County='Yakima', City='Yakima', State='WA', Postal_Code=98902, Model_Year=2022, Make='TESLA', Model='MODEL 3', Electric_Vehicle_Type='Battery Electric Vehicle (BEV)', CAFV='Eligibility unknown as battery range has not been researched', Electric_Range=0, Base_MSRP=0, Legislative_District=15, DOL_Vehicle_ID=213383894, Vehicle_Location='POINT (-120.530331 46.59534)', Electric_Utility='PACIFICORP', 2020_Census_Tract=53077001202),\n",
       " Row(VIN='7SAYGAEE2P', County='Snohomish', City='Bothell', State='WA', Postal_Code=98012, Model_Year=2023, Make='TESLA', Model='MODEL Y', Electric_Vehicle_Type='Battery Electric Vehicle (BEV)', CAFV='Eligibility unknown as battery range has not been researched', Electric_Range=0, Base_MSRP=0, Legislative_District=1, DOL_Vehicle_ID=229496046, Vehicle_Location='POINT (-122.206146 47.839957)', Electric_Utility='PUGET SOUND ENERGY INC', 2020_Census_Tract=53061052009)]"
      ]
     },
     "metadata": {},
     "output_type": "display_data"
    }
   ],
   "source": [
    "#display(df.head(5))"
   ]
  },
  {
   "cell_type": "code",
   "execution_count": 10,
   "id": "9fc6a3b4-abfe-4a8a-ac47-09204f0b4253",
   "metadata": {},
   "outputs": [
    {
     "name": "stdout",
     "output_type": "stream",
     "text": [
      "24/09/09 03:52:49 WARN CSVHeaderChecker: CSV header does not conform to the schema.\n",
      " Header: VIN (1-10), County, City, State, Postal Code, Model Year, Make, Model, Electric Vehicle Type, Clean Alternative Fuel Vehicle (CAFV) Eligibility, Electric Range, Base MSRP, Legislative District, DOL Vehicle ID, Vehicle Location, Electric Utility, 2020 Census Tract\n",
      " Schema: VIN, County, City, State, Postal_Code, Model_Year, Make, Model, Electric_Vehicle_Type, CAFV, Electric_Range, Base_MSRP, Legislative_District, DOL_Vehicle_ID, Vehicle_Location, Electric_Utility, 2020_Census_Tract\n",
      "Expected: VIN but found: VIN (1-10)\n",
      "CSV file: file:///home/sagemaker-user/data/Electric_Vehicle_Population_Data.csv\n"
     ]
    },
    {
     "name": "stderr",
     "output_type": "stream",
     "text": [
      "[Stage 1:=============================>                             (1 + 1) / 2]\r"
     ]
    },
    {
     "name": "stdout",
     "output_type": "stream",
     "text": [
      "+---+------+----+-----+-----------+----------+----+-----+---------------------+----+--------------+---------+--------------------+--------------+----------------+----------------+-----------------+\n",
      "|VIN|County|City|State|Postal_Code|Model_Year|Make|Model|Electric_Vehicle_Type|CAFV|Electric_Range|Base_MSRP|Legislative_District|DOL_Vehicle_ID|Vehicle_Location|Electric_Utility|2020_Census_Tract|\n",
      "+---+------+----+-----+-----------+----------+----+-----+---------------------+----+--------------+---------+--------------------+--------------+----------------+----------------+-----------------+\n",
      "|  0|     4|   4|    0|          4|         0|   0|    0|                    0|   0|             0|        0|                 442|             0|               8|               4|                4|\n",
      "+---+------+----+-----+-----------+----------+----+-----+---------------------+----+--------------+---------+--------------------+--------------+----------------+----------------+-----------------+\n",
      "\n"
     ]
    },
    {
     "name": "stderr",
     "output_type": "stream",
     "text": [
      "                                                                                \r"
     ]
    }
   ],
   "source": [
    "# Contar nulos por columna\n",
    "df.select([spark_sum(col(c).isNull().cast(\"int\")).alias(c) for c in df.columns]).show()"
   ]
  },
  {
   "cell_type": "code",
   "execution_count": 11,
   "id": "31f9232d-171a-4fdb-8f50-265b69061204",
   "metadata": {},
   "outputs": [
    {
     "name": "stderr",
     "output_type": "stream",
     "text": [
      "[Stage 4:>                                                          (0 + 2) / 2]\r"
     ]
    },
    {
     "name": "stdout",
     "output_type": "stream",
     "text": [
      "24/09/09 03:53:03 WARN CSVHeaderChecker: CSV header does not conform to the schema.\n",
      " Header: VIN (1-10), County, City, State, Postal Code, Model Year, Make, Model, Electric Vehicle Type, Clean Alternative Fuel Vehicle (CAFV) Eligibility, Electric Range, Base MSRP, Legislative District, DOL Vehicle ID, Vehicle Location, Electric Utility, 2020 Census Tract\n",
      " Schema: VIN, County, City, State, Postal_Code, Model_Year, Make, Model, Electric_Vehicle_Type, CAFV, Electric_Range, Base_MSRP, Legislative_District, DOL_Vehicle_ID, Vehicle_Location, Electric_Utility, 2020_Census_Tract\n",
      "Expected: VIN but found: VIN (1-10)\n",
      "CSV file: file:///home/sagemaker-user/data/Electric_Vehicle_Population_Data.csv\n"
     ]
    },
    {
     "name": "stderr",
     "output_type": "stream",
     "text": [
      "[Stage 8:>                                                          (0 + 1) / 1]\r"
     ]
    },
    {
     "name": "stdout",
     "output_type": "stream",
     "text": [
      "+---+------+----+-----+-----------+----------+----+-----+---------------------+----+--------------+---------+--------------------+--------------+----------------+----------------+-----------------+-----+\n",
      "|VIN|County|City|State|Postal_Code|Model_Year|Make|Model|Electric_Vehicle_Type|CAFV|Electric_Range|Base_MSRP|Legislative_District|DOL_Vehicle_ID|Vehicle_Location|Electric_Utility|2020_Census_Tract|count|\n",
      "+---+------+----+-----+-----------+----------+----+-----+---------------------+----+--------------+---------+--------------------+--------------+----------------+----------------+-----------------+-----+\n",
      "+---+------+----+-----+-----------+----------+----+-----+---------------------+----+--------------+---------+--------------------+--------------+----------------+----------------+-----------------+-----+\n",
      "\n"
     ]
    },
    {
     "name": "stderr",
     "output_type": "stream",
     "text": [
      "                                                                                \r"
     ]
    }
   ],
   "source": [
    "# Contar duplicados\n",
    "df.select(\"*\").groupBy(df.columns).count().filter(\"count > 1\").show()"
   ]
  },
  {
   "cell_type": "code",
   "execution_count": 12,
   "id": "6598e709-0059-41df-9287-23023db17a15",
   "metadata": {},
   "outputs": [
    {
     "name": "stdout",
     "output_type": "stream",
     "text": [
      "24/09/09 03:53:15 WARN CSVHeaderChecker: CSV header does not conform to the schema.\n",
      " Header: VIN (1-10), County, City, State, Postal Code, Model Year, Make, Model, Electric Vehicle Type, Clean Alternative Fuel Vehicle (CAFV) Eligibility, Electric Range, Base MSRP, Legislative District, DOL Vehicle ID, Vehicle Location, Electric Utility, 2020 Census Tract\n",
      " Schema: VIN, County, City, State, Postal_Code, Model_Year, Make, Model, Electric_Vehicle_Type, CAFV, Electric_Range, Base_MSRP, Legislative_District, DOL_Vehicle_ID, Vehicle_Location, Electric_Utility, 2020_Census_Tract\n",
      "Expected: VIN but found: VIN (1-10)\n",
      "CSV file: file:///home/sagemaker-user/data/Electric_Vehicle_Population_Data.csv\n"
     ]
    },
    {
     "name": "stderr",
     "output_type": "stream",
     "text": [
      "                                                                                \r"
     ]
    },
    {
     "name": "stdout",
     "output_type": "stream",
     "text": [
      "+-------+----------+------+--------+------+------------------+------------------+--------------------+------------------+---------------------+--------------------+-----------------+-----------------+--------------------+-------------------+--------------------+--------------------+--------------------+\n",
      "|summary|       VIN|County|    City| State|       Postal_Code|        Model_Year|                Make|             Model|Electric_Vehicle_Type|                CAFV|   Electric_Range|        Base_MSRP|Legislative_District|     DOL_Vehicle_ID|    Vehicle_Location|    Electric_Utility|   2020_Census_Tract|\n",
      "+-------+----------+------+--------+------+------------------+------------------+--------------------+------------------+---------------------+--------------------+-----------------+-----------------+--------------------+-------------------+--------------------+--------------------+--------------------+\n",
      "|  count|    200048|200044|  200044|200048|            200044|            200048|              200048|            200048|               200048|              200048|           200048|           200048|              199606|             200048|              200040|              200044|              200044|\n",
      "|   mean|      null|  null|    null|  null| 98176.17812081342|2020.8712608973847|                null| 500.5304568527919|                 null|                null|53.48527853315204|947.5519125409902|  28.986062543210124|2.262987746758728E8|                null|                null|5.297544652417358...|\n",
      "| stddev|      null|  null|    null|  null|2424.2078111871733|2.9949331217944892|                null|14.890633447473123|                 null|                null|88.78630066929004|7860.591090710989|  14.908108304680828|7.282432541963601E7|                null|                null|1.6056284398994555E9|\n",
      "|    min|1C4JJXN60P|   Ada|Aberdeen|    AE|              1731|              1997|               ACURA|              330E| Battery Electric ...|Clean Alternative...|                0|                0|                   1|               4385|POINT (-100.48613...|         AVISTA CORP|          1001020100|\n",
      "|    max|ZFAFFAC45R|  Yuba|  Zillah|    WY|             99577|              2025|WHEEGO ELECTRIC CARS|               ZDX| Plug-in Hybrid El...|Not eligible due ...|              337|           845000|                  49|          479254772|POINT (-98.711755...|PUGET SOUND ENERG...|         56021001100|\n",
      "+-------+----------+------+--------+------+------------------+------------------+--------------------+------------------+---------------------+--------------------+-----------------+-----------------+--------------------+-------------------+--------------------+--------------------+--------------------+\n",
      "\n"
     ]
    }
   ],
   "source": [
    "df.describe().show()"
   ]
  },
  {
   "cell_type": "code",
   "execution_count": 13,
   "id": "cdf58082-e1a8-4223-847d-4cf5d7095df7",
   "metadata": {},
   "outputs": [
    {
     "name": "stderr",
     "output_type": "stream",
     "text": [
      "[Stage 12:>                                                         (0 + 2) / 2]\r"
     ]
    },
    {
     "name": "stdout",
     "output_type": "stream",
     "text": [
      "+-------------+-----+\n",
      "|         Make|count|\n",
      "+-------------+-----+\n",
      "|        TESLA|88083|\n",
      "|    CHEVROLET|14806|\n",
      "|       NISSAN|14416|\n",
      "|         FORD|10547|\n",
      "|          KIA| 8763|\n",
      "|          BMW| 8295|\n",
      "|       TOYOTA| 7681|\n",
      "|   VOLKSWAGEN| 5565|\n",
      "|      HYUNDAI| 5476|\n",
      "|         JEEP| 5288|\n",
      "|       RIVIAN| 5213|\n",
      "|        VOLVO| 4707|\n",
      "|         AUDI| 4074|\n",
      "|     CHRYSLER| 3620|\n",
      "|MERCEDES-BENZ| 1879|\n",
      "|      PORSCHE| 1220|\n",
      "|       SUBARU| 1167|\n",
      "|     POLESTAR| 1112|\n",
      "|         MINI| 1011|\n",
      "|   MITSUBISHI| 1007|\n",
      "+-------------+-----+\n",
      "only showing top 20 rows\n",
      "\n"
     ]
    },
    {
     "name": "stderr",
     "output_type": "stream",
     "text": [
      "                                                                                \r"
     ]
    }
   ],
   "source": [
    "df.groupBy(\"Make\").count().orderBy(\"count\", ascending=False).show()"
   ]
  },
  {
   "cell_type": "code",
   "execution_count": 14,
   "id": "32a22956-df30-455c-8f03-b67b7957b4f7",
   "metadata": {},
   "outputs": [
    {
     "name": "stdout",
     "output_type": "stream",
     "text": [
      "24/09/09 03:54:04 WARN CSVHeaderChecker: CSV header does not conform to the schema.\n",
      " Header: Clean Alternative Fuel Vehicle (CAFV) Eligibility\n",
      " Schema: CAFV\n",
      "Expected: CAFV but found: Clean Alternative Fuel Vehicle (CAFV) Eligibility\n",
      "CSV file: file:///home/sagemaker-user/data/Electric_Vehicle_Population_Data.csv\n"
     ]
    },
    {
     "name": "stderr",
     "output_type": "stream",
     "text": [
      "[Stage 15:=============================>                            (1 + 1) / 2]\r"
     ]
    },
    {
     "name": "stdout",
     "output_type": "stream",
     "text": [
      "+--------------------+------+\n",
      "|                CAFV| count|\n",
      "+--------------------+------+\n",
      "|Eligibility unkno...|109401|\n",
      "|Clean Alternative...| 69622|\n",
      "|Not eligible due ...| 21025|\n",
      "+--------------------+------+\n",
      "\n"
     ]
    },
    {
     "name": "stderr",
     "output_type": "stream",
     "text": [
      "                                                                                \r"
     ]
    }
   ],
   "source": [
    "df.groupBy(\"CAFV\").count().orderBy(\"count\", ascending=False).show()"
   ]
  },
  {
   "cell_type": "code",
   "execution_count": null,
   "id": "ffb00873-0e2a-4ca7-94c3-a80778d5d8e6",
   "metadata": {
    "scrolled": true
   },
   "outputs": [],
   "source": []
  },
  {
   "cell_type": "code",
   "execution_count": 15,
   "id": "6478bd58-fc0b-448f-83da-ebf4ac153ed6",
   "metadata": {},
   "outputs": [
    {
     "name": "stdout",
     "output_type": "stream",
     "text": [
      "24/09/09 03:54:06 WARN CSVHeaderChecker: CSV header does not conform to the schema.\n",
      " Header: VIN (1-10), County, City, State, Postal Code, Model Year, Make, Model, Electric Vehicle Type, Clean Alternative Fuel Vehicle (CAFV) Eligibility, Electric Range, Base MSRP, Legislative District, DOL Vehicle ID, Vehicle Location, Electric Utility, 2020 Census Tract\n",
      " Schema: VIN, County, City, State, Postal_Code, Model_Year, Make, Model, Electric_Vehicle_Type, CAFV, Electric_Range, Base_MSRP, Legislative_District, DOL_Vehicle_ID, Vehicle_Location, Electric_Utility, 2020_Census_Tract\n",
      "Expected: VIN but found: VIN (1-10)\n",
      "CSV file: file:///home/sagemaker-user/data/Electric_Vehicle_Population_Data.csv\n"
     ]
    },
    {
     "name": "stderr",
     "output_type": "stream",
     "text": [
      "                                                                                \r"
     ]
    },
    {
     "data": {
      "image/png": "[encoded data removed]",
      "text/plain": [
       "<Figure size 1000x600 with 1 Axes>"
      ]
     },
     "metadata": {},
     "output_type": "display_data"
    }
   ],
   "source": [
    "# Convertir a pandas Para graficar\n",
    "pandas_df = df.toPandas()\n",
    "\n",
    "plt.figure(figsize=(10,6))\n",
    "# Filtrar el DataFrame y crear el gráfico de barras en una línea\n",
    "sns.countplot(data=pandas_df[pandas_df['Make'] != 'TESLA'], x='Make', order=pandas_df['Make'].value_counts().index)\n",
    "\n",
    "plt.xticks(rotation=90)\n",
    "plt.title('Distribución de Vehículos por Marca (Excluyendo Tesla)')\n",
    "plt.show()\n"
   ]
  },
  {
   "cell_type": "code",
   "execution_count": 16,
   "id": "f625a263-9231-45b6-aeb7-21cb33c41499",
   "metadata": {},
   "outputs": [
    {
     "data": {
      "image/png": "[encoded data removed]",
      "text/plain": [
       "<Figure size 1000x600 with 1 Axes>"
      ]
     },
     "metadata": {},
     "output_type": "display_data"
    }
   ],
   "source": [
    "# Contar la frecuencia de cada año\n",
    "year_counts = pandas_df['Model_Year'].value_counts().sort_index()\n",
    "plt.figure(figsize=(10,6))\n",
    "\n",
    "# Crear el gráfico de barras\n",
    "sns.barplot(x=year_counts.index, y=year_counts.values)\n",
    "\n",
    "plt.title('Distribución de Años de Vehículos')\n",
    "plt.xlabel('Año')\n",
    "plt.ylabel('Frecuencia')\n",
    "plt.xticks(rotation=90)\n",
    "plt.show()"
   ]
  },
  {
   "cell_type": "code",
   "execution_count": null,
   "id": "b704f830-996b-496c-893a-815897e557c0",
   "metadata": {},
   "outputs": [],
   "source": []
  },
  {
   "cell_type": "code",
   "execution_count": 17,
   "id": "8ba5b61f-78f6-4c94-a18b-73caae6c25f0",
   "metadata": {},
   "outputs": [
    {
     "name": "stdout",
     "output_type": "stream",
     "text": [
      "24/09/09 03:54:18 WARN CSVHeaderChecker: CSV header does not conform to the schema.\n",
      " Header: Postal Code, Model Year, Electric Range, Base MSRP, Legislative District, DOL Vehicle ID\n",
      " Schema: Postal_Code, Model_Year, Electric_Range, Base_MSRP, Legislative_District, DOL_Vehicle_ID\n",
      "Expected: Postal_Code but found: Postal Code\n",
      "CSV file: file:///home/sagemaker-user/data/Electric_Vehicle_Population_Data.csv\n"
     ]
    },
    {
     "name": "stderr",
     "output_type": "stream",
     "text": [
      "                                                                                \r"
     ]
    },
    {
     "data": {
      "image/png": "[encoded data removed]",
      "text/plain": [
       "<Figure size 500x500 with 2 Axes>"
      ]
     },
     "metadata": {},
     "output_type": "display_data"
    }
   ],
   "source": [
    "# Seleccionar solo columnas de tipo entero\n",
    "integer_columns = [field.name for field in df.schema.fields if isinstance(field.dataType, IntegerType)]\n",
    "\n",
    "# Seleccionar solo esas columnas\n",
    "df_integers = df.select(integer_columns)\n",
    "# Convertir a pandas\n",
    "pandas_df_integers = df_integers.toPandas()\n",
    "\n",
    "\n",
    "plt.figure(figsize = (5,5))\n",
    "\n",
    "# Calcular la matriz de correlación\n",
    "corr_matrix = pandas_df_integers.corr()\n",
    "\n",
    "# Crear el mapa de calor\n",
    "sns.heatmap(corr_matrix, annot=True, cmap='coolwarm', linewidths=0.5)\n",
    "\n",
    "# Mostrar el gráfico\n",
    "plt.title('Mapa de Calor de Correlaciones (Solo Enteros)')\n",
    "plt.show()"
   ]
  },
  {
   "cell_type": "code",
   "execution_count": null,
   "id": "81a06ed6-b41f-4508-879a-8d17f1d6fc02",
   "metadata": {},
   "outputs": [],
   "source": [
    "##############################################################################################################################"
   ]
  },
  {
   "cell_type": "code",
   "execution_count": null,
   "id": "8fa2202c-80ba-4483-8707-69cc64e871bd",
   "metadata": {},
   "outputs": [],
   "source": [
    "##############################################################################################################################"
   ]
  },
  {
   "cell_type": "markdown",
   "id": "6915cc1a-e61d-4d7a-8087-ab40b3f77c6e",
   "metadata": {},
   "source": [
    "#### Usando deequ para calidad de datos"
   ]
  },
  {
   "cell_type": "code",
   "execution_count": 18,
   "id": "74dbdc15-53c7-4ed3-b19c-c60e52dd3319",
   "metadata": {},
   "outputs": [
    {
     "name": "stdout",
     "output_type": "stream",
     "text": [
      "24/09/09 03:54:25 WARN CSVHeaderChecker: CSV header does not conform to the schema.\n",
      " Header: Electric Vehicle Type, Electric Range, Base MSRP, DOL Vehicle ID\n",
      " Schema: Electric_Vehicle_Type, Electric_Range, Base_MSRP, DOL_Vehicle_ID\n",
      "Expected: Electric_Vehicle_Type but found: Electric Vehicle Type\n",
      "CSV file: file:///home/sagemaker-user/data/Electric_Vehicle_Population_Data.csv\n"
     ]
    },
    {
     "name": "stderr",
     "output_type": "stream",
     "text": [
      "                                                                                \r"
     ]
    },
    {
     "name": "stdout",
     "output_type": "stream",
     "text": [
      "24/09/09 03:54:27 WARN CSVHeaderChecker: CSV header does not conform to the schema.\n",
      " Header: Electric Range\n",
      " Schema: Electric_Range\n",
      "Expected: Electric_Range but found: Electric Range\n",
      "CSV file: file:///home/sagemaker-user/data/Electric_Vehicle_Population_Data.csv\n"
     ]
    },
    {
     "name": "stderr",
     "output_type": "stream",
     "text": [
      "                                                                                \r"
     ]
    },
    {
     "name": "stdout",
     "output_type": "stream",
     "text": [
      "24/09/09 03:54:28 WARN CSVHeaderChecker: CSV header does not conform to the schema.\n",
      " Header: Electric Range\n",
      " Schema: Electric_Range\n",
      "Expected: Electric_Range but found: Electric Range\n",
      "CSV file: file:///home/sagemaker-user/data/Electric_Vehicle_Population_Data.csv\n"
     ]
    },
    {
     "name": "stderr",
     "output_type": "stream",
     "text": [
      "                                                                                \r"
     ]
    },
    {
     "name": "stdout",
     "output_type": "stream",
     "text": [
      "24/09/09 03:54:30 WARN CSVHeaderChecker: CSV header does not conform to the schema.\n",
      " Header: Electric Vehicle Type\n",
      " Schema: Electric_Vehicle_Type\n",
      "Expected: Electric_Vehicle_Type but found: Electric Vehicle Type\n",
      "CSV file: file:///home/sagemaker-user/data/Electric_Vehicle_Population_Data.csv\n"
     ]
    },
    {
     "name": "stderr",
     "output_type": "stream",
     "text": [
      "                                                                                \r"
     ]
    },
    {
     "name": "stdout",
     "output_type": "stream",
     "text": [
      "24/09/09 03:54:31 WARN CSVHeaderChecker: CSV header does not conform to the schema.\n",
      " Header: Electric Vehicle Type\n",
      " Schema: Electric_Vehicle_Type\n",
      "Expected: Electric_Vehicle_Type but found: Electric Vehicle Type\n",
      "CSV file: file:///home/sagemaker-user/data/Electric_Vehicle_Population_Data.csv\n"
     ]
    },
    {
     "name": "stderr",
     "output_type": "stream",
     "text": [
      "                                                                                \r"
     ]
    },
    {
     "name": "stdout",
     "output_type": "stream",
     "text": [
      "+-------+--------------------+-------------+--------------------+\n",
      "| entity|            instance|         name|               value|\n",
      "+-------+--------------------+-------------+--------------------+\n",
      "| Column|      Electric_Range| Distinctness|5.198752299448132E-4|\n",
      "| Column|           Base_MSRP|         Mean|   947.5519125409902|\n",
      "| Column|Electric_Vehicle_...|    MaxLength|                38.0|\n",
      "|Dataset|                   *|         Size|            200048.0|\n",
      "| Column|Electric_Vehicle_...|CountDistinct|                 2.0|\n",
      "| Column|      DOL_Vehicle_ID| Completeness|                 1.0|\n",
      "| Column|      DOL_Vehicle_ID|      Minimum|              4385.0|\n",
      "| Column|      DOL_Vehicle_ID|      Maximum|        4.79254772E8|\n",
      "| Column|      Electric_Range| Completeness|                 1.0|\n",
      "+-------+--------------------+-------------+--------------------+\n",
      "\n"
     ]
    },
    {
     "name": "stderr",
     "output_type": "stream",
     "text": [
      "/opt/conda/lib/python3.10/site-packages/pyspark/sql/dataframe.py:127: UserWarning: DataFrame constructor is internal. Do not directly use it.\n",
      "  warnings.warn(\"DataFrame constructor is internal. Do not directly use it.\")\n"
     ]
    }
   ],
   "source": [
    "analysisResult = AnalysisRunner(spark) \\\n",
    "                    .onData(df) \\\n",
    "                    .addAnalyzer(Size()) \\\n",
    "                    .addAnalyzer(Completeness(\"Electric_Range\")) \\\n",
    "                    .addAnalyzer(Completeness(\"DOL_Vehicle_ID\")) \\\n",
    "                    .addAnalyzer(Distinctness(\"Electric_Range\")) \\\n",
    "                    .addAnalyzer(Mean(\"Base_MSRP\")) \\\n",
    "                    .addAnalyzer(CountDistinct(\"Electric_Vehicle_Type\")) \\\n",
    "                    .addAnalyzer(MaxLength(\"Electric_Vehicle_Type\")) \\\n",
    "                    .addAnalyzer(Minimum(\"DOL_Vehicle_ID\")) \\\n",
    "                    .addAnalyzer(Maximum(\"DOL_Vehicle_ID\")) \\\n",
    "                    .run()\n",
    "                    \n",
    "analysisResult_df = AnalyzerContext.successMetricsAsDataFrame(spark, analysisResult)\n",
    "analysisResult_df.show()"
   ]
  },
  {
   "cell_type": "markdown",
   "id": "0b3ce858-fd0a-442c-9d83-b211ba81a9a9",
   "metadata": {},
   "source": [
    "##### Conclusiones \n",
    "Lectura del Analyzer \n",
    "##### Seleccionar otras variables y otros analyzers"
   ]
  },
  {
   "cell_type": "code",
   "execution_count": null,
   "id": "6ab9088e-cb86-444c-b214-b95c23f9f1f0",
   "metadata": {},
   "outputs": [],
   "source": []
  },
  {
   "cell_type": "markdown",
   "id": "b42773aa-c2e0-40aa-ae91-987e337c167b",
   "metadata": {},
   "source": [
    "###### Profiling"
   ]
  },
  {
   "cell_type": "code",
   "execution_count": 19,
   "id": "295459d6-285e-464c-adad-0587ccd5c299",
   "metadata": {
    "scrolled": true
   },
   "outputs": [
    {
     "name": "stdout",
     "output_type": "stream",
     "text": [
      "24/09/09 03:54:40 WARN package: Truncated the string representation of a plan since it was too large. This behavior can be adjusted by setting 'spark.sql.debug.maxToStringFields'.\n",
      "24/09/09 03:54:40 WARN CSVHeaderChecker: CSV header does not conform to the schema.\n",
      " Header: VIN (1-10), County, City, State, Postal Code, Model Year, Make, Model, Electric Vehicle Type, Clean Alternative Fuel Vehicle (CAFV) Eligibility, Electric Range, Base MSRP, Legislative District, DOL Vehicle ID, Vehicle Location, Electric Utility, 2020 Census Tract\n",
      " Schema: VIN, County, City, State, Postal_Code, Model_Year, Make, Model, Electric_Vehicle_Type, CAFV, Electric_Range, Base_MSRP, Legislative_District, DOL_Vehicle_ID, Vehicle_Location, Electric_Utility, 2020_Census_Tract\n",
      "Expected: VIN but found: VIN (1-10)\n",
      "CSV file: file:///home/sagemaker-user/data/Electric_Vehicle_Population_Data.csv\n"
     ]
    },
    {
     "name": "stderr",
     "output_type": "stream",
     "text": [
      "                                                                                \r"
     ]
    },
    {
     "name": "stdout",
     "output_type": "stream",
     "text": [
      "24/09/09 03:54:50 WARN CSVHeaderChecker: CSV header does not conform to the schema.\n",
      " Header: Postal Code, Model Year, Electric Range, Base MSRP, Legislative District, DOL Vehicle ID, 2020 Census Tract\n",
      " Schema: Postal_Code, Model_Year, Electric_Range, Base_MSRP, Legislative_District, DOL_Vehicle_ID, 2020_Census_Tract\n",
      "Expected: Postal_Code but found: Postal Code\n",
      "CSV file: file:///home/sagemaker-user/data/Electric_Vehicle_Population_Data.csv\n"
     ]
    },
    {
     "name": "stderr",
     "output_type": "stream",
     "text": [
      "                                                                                \r"
     ]
    },
    {
     "name": "stdout",
     "output_type": "stream",
     "text": [
      "24/09/09 03:54:52 WARN CSVHeaderChecker: CSV header does not conform to the schema.\n",
      " Header: VIN (1-10), County, City, State, Postal Code, Model Year, Make, Model, Electric Vehicle Type, Clean Alternative Fuel Vehicle (CAFV) Eligibility, Electric Range, Base MSRP, Legislative District, DOL Vehicle ID, Vehicle Location, Electric Utility, 2020 Census Tract\n",
      " Schema: VIN, County, City, State, Postal_Code, Model_Year, Make, Model, Electric_Vehicle_Type, CAFV, Electric_Range, Base_MSRP, Legislative_District, DOL_Vehicle_ID, Vehicle_Location, Electric_Utility, 2020_Census_Tract\n",
      "Expected: VIN but found: VIN (1-10)\n",
      "CSV file: file:///home/sagemaker-user/data/Electric_Vehicle_Population_Data.csv\n"
     ]
    },
    {
     "name": "stderr",
     "output_type": "stream",
     "text": [
      "                                                                                \r"
     ]
    }
   ],
   "source": [
    "result = ColumnProfilerRunner(spark) \\\n",
    "            .onData(df) \\\n",
    "            .run()"
   ]
  },
  {
   "cell_type": "code",
   "execution_count": 20,
   "id": "557178d0-43c3-4b4a-b24b-1a5b6777ac89",
   "metadata": {},
   "outputs": [
    {
     "name": "stdout",
     "output_type": "stream",
     "text": [
      "Column 'CAFV'\n",
      "\t completeness: 1.0\n",
      "\t approximate number of distinct values: 3\n",
      "\t datatype: String\n",
      "Column 'VIN'\n",
      "\t completeness: 1.0\n",
      "\t approximate number of distinct values: 12399\n",
      "\t datatype: String\n",
      "Column 'Make'\n",
      "\t completeness: 1.0\n",
      "\t approximate number of distinct values: 38\n",
      "\t datatype: String\n",
      "Column 'Vehicle_Location'\n",
      "\t completeness: 0.9999600095976966\n",
      "\t approximate number of distinct values: 953\n",
      "\t datatype: String\n",
      "Column 'Postal_Code'\n",
      "\t completeness: 0.9999800047988483\n",
      "\t approximate number of distinct values: 936\n",
      "\t datatype: Integral\n",
      "Column 'Electric_Utility'\n",
      "\t completeness: 0.9999800047988483\n",
      "\t approximate number of distinct values: 80\n",
      "\t datatype: String\n",
      "Column 'Legislative_District'\n",
      "\t completeness: 0.9977905302727346\n",
      "\t approximate number of distinct values: 49\n",
      "\t datatype: Integral\n",
      "Column 'Model'\n",
      "\t completeness: 1.0\n",
      "\t approximate number of distinct values: 146\n",
      "\t datatype: String\n",
      "Column 'Electric_Range'\n",
      "\t completeness: 1.0\n",
      "\t approximate number of distinct values: 108\n",
      "\t datatype: Integral\n",
      "Column 'County'\n",
      "\t completeness: 0.9999800047988483\n",
      "\t approximate number of distinct values: 192\n",
      "\t datatype: String\n",
      "Column 'City'\n",
      "\t completeness: 0.9999800047988483\n",
      "\t approximate number of distinct values: 787\n",
      "\t datatype: String\n",
      "Column 'Base_MSRP'\n",
      "\t completeness: 1.0\n",
      "\t approximate number of distinct values: 32\n",
      "\t datatype: Integral\n",
      "Column 'DOL_Vehicle_ID'\n",
      "\t completeness: 1.0\n",
      "\t approximate number of distinct values: 212051\n",
      "\t datatype: Integral\n",
      "Column 'Model_Year'\n",
      "\t completeness: 1.0\n",
      "\t approximate number of distinct values: 21\n",
      "\t datatype: Integral\n",
      "Column 'Electric_Vehicle_Type'\n",
      "\t completeness: 1.0\n",
      "\t approximate number of distinct values: 2\n",
      "\t datatype: String\n",
      "Column 'State'\n",
      "\t completeness: 1.0\n",
      "\t approximate number of distinct values: 47\n",
      "\t datatype: String\n",
      "Column '2020_Census_Tract'\n",
      "\t completeness: 0.9999800047988483\n",
      "\t approximate number of distinct values: 2140\n",
      "\t datatype: Integral\n"
     ]
    }
   ],
   "source": [
    "for col, profile in result.profiles.items():\n",
    "    print(f'Column \\'{col}\\'')\n",
    "    print('\\t',f'completeness: {profile.completeness}')\n",
    "    print('\\t',f'approximate number of distinct values: {profile.approximateNumDistinctValues}')\n",
    "    print('\\t',f'datatype: {profile.dataType}')"
   ]
  },
  {
   "cell_type": "code",
   "execution_count": 21,
   "id": "79e7cfef-6c3d-4f69-83f9-86ccecbdd031",
   "metadata": {},
   "outputs": [
    {
     "name": "stdout",
     "output_type": "stream",
     "text": [
      "Statistics of 'Electric_Range':\n",
      "\t minimum: 0.0\n",
      "\t maximum: 337.0\n",
      "\t mean: 53.48527853315204\n",
      "\t standard deviation: 88.78607875652004\n"
     ]
    }
   ],
   "source": [
    "totalNumber_profile = result.profiles['Electric_Range']\n",
    "\n",
    "print(f'Statistics of \\'Electric_Range\\':')\n",
    "print('\\t',f\"minimum: {totalNumber_profile.minimum}\")\n",
    "print('\\t',f\"maximum: {totalNumber_profile.maximum}\")\n",
    "print('\\t',f\"mean: {totalNumber_profile.mean}\")\n",
    "print('\\t',f\"standard deviation: {totalNumber_profile.stdDev}\")"
   ]
  },
  {
   "cell_type": "code",
   "execution_count": 22,
   "id": "bfcb9ed2-66c1-4447-abf4-9e167e42189c",
   "metadata": {},
   "outputs": [
    {
     "name": "stdout",
     "output_type": "stream",
     "text": [
      "Statistics of 'DOL_Vehicle_ID':\n",
      "\t minimum: 4385.0\n",
      "\t maximum: 479254772.0\n",
      "\t mean: 226298774.6758728\n",
      "\t standard deviation: 72824143.40227911\n"
     ]
    }
   ],
   "source": [
    "totalNumber_profile = result.profiles['DOL_Vehicle_ID']\n",
    "\n",
    "print(f'Statistics of \\'DOL_Vehicle_ID\\':')\n",
    "print('\\t',f\"minimum: {totalNumber_profile.minimum}\")\n",
    "print('\\t',f\"maximum: {totalNumber_profile.maximum}\")\n",
    "print('\\t',f\"mean: {totalNumber_profile.mean}\")\n",
    "print('\\t',f\"standard deviation: {totalNumber_profile.stdDev}\")"
   ]
  },
  {
   "cell_type": "code",
   "execution_count": 23,
   "id": "63ff349f-198f-4f30-bfce-d9280df9265e",
   "metadata": {},
   "outputs": [
    {
     "name": "stdout",
     "output_type": "stream",
     "text": [
      "Value distribution in 'Electric_Vehicle_Type':\n",
      "\t Battery Electric Vehicle (BEV) occurred 156956 times (ratio is 0.7845916979924819)\n",
      "\t Plug-in Hybrid Electric Vehicle (PHEV) occurred 43092 times (ratio is 0.2154083020075182)\n"
     ]
    }
   ],
   "source": [
    "status_profile = result.profiles['Electric_Vehicle_Type']\n",
    "\n",
    "print('Value distribution in \\'Electric_Vehicle_Type\\':')\n",
    "for unique_entry in status_profile.histogram: \n",
    "    print('\\t',f\"{unique_entry.value} occurred {unique_entry.count} times (ratio is {unique_entry.ratio})\")"
   ]
  },
  {
   "cell_type": "code",
   "execution_count": 24,
   "id": "ba3eeaa0-e949-44f0-bb69-6923e8d5e2e2",
   "metadata": {},
   "outputs": [
    {
     "name": "stdout",
     "output_type": "stream",
     "text": [
      "Value distribution in 'CAFV':\n",
      "\t Clean Alternative Fuel Vehicle Eligible occurred 69622 times (ratio is 0.3480264736463249)\n",
      "\t Not eligible due to low battery range occurred 21025 times (ratio is 0.1050997760537471)\n",
      "\t Eligibility unknown as battery range has not been researched occurred 109401 times (ratio is 0.546873750299928)\n"
     ]
    }
   ],
   "source": [
    "status_profile = result.profiles['CAFV']\n",
    "\n",
    "print('Value distribution in \\'CAFV\\':')\n",
    "for unique_entry in status_profile.histogram: \n",
    "    print('\\t',f\"{unique_entry.value} occurred {unique_entry.count} times (ratio is {unique_entry.ratio})\")"
   ]
  },
  {
   "cell_type": "code",
   "execution_count": 25,
   "id": "e320412a-2f9a-4b65-a8af-76fc97a6bf63",
   "metadata": {},
   "outputs": [],
   "source": [
    "##### Anomaly Detection"
   ]
  },
  {
   "cell_type": "code",
   "execution_count": null,
   "id": "05171001-57bd-47d2-830a-283428e20a45",
   "metadata": {},
   "outputs": [],
   "source": []
  }
 ],
 "metadata": {
  "kernelspec": {
   "display_name": "Python 3 (ipykernel)",
   "language": "python",
   "name": "python3"
  },
  "language_info": {
   "codemirror_mode": {
    "name": "ipython",
    "version": 3
   },
   "file_extension": ".py",
   "mimetype": "text/x-python",
   "name": "python",
   "nbconvert_exporter": "python",
   "pygments_lexer": "ipython3",
   "version": "3.10.14"
  }
 },
 "nbformat": 4,
 "nbformat_minor": 5
}
