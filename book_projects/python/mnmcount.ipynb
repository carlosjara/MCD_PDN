{
 "cells": [
  {
   "cell_type": "code",
   "execution_count": 5,
   "metadata": {},
   "outputs": [
    {
     "name": "stdout",
     "output_type": "stream",
     "text": [
      "Collecting pyspark\n",
      "  Using cached pyspark-3.5.2-py2.py3-none-any.whl\n",
      "Requirement already satisfied: py4j==0.10.9.7 in c:\\python312\\lib\\site-packages (from pyspark) (0.10.9.7)\n",
      "Installing collected packages: pyspark\n",
      "Successfully installed pyspark-3.5.2\n"
     ]
    },
    {
     "name": "stderr",
     "output_type": "stream",
     "text": [
      "WARNING: Ignoring invalid distribution ~ (C:\\Python312\\Lib\\site-packages)\n",
      "WARNING: Ignoring invalid distribution ~ip (C:\\Python312\\Lib\\site-packages)\n",
      "WARNING: Ignoring invalid distribution ~~p (C:\\Python312\\Lib\\site-packages)\n",
      "WARNING: Ignoring invalid distribution ~ (C:\\Python312\\Lib\\site-packages)\n",
      "WARNING: Ignoring invalid distribution ~ip (C:\\Python312\\Lib\\site-packages)\n",
      "WARNING: Ignoring invalid distribution ~~p (C:\\Python312\\Lib\\site-packages)\n",
      "WARNING: Ignoring invalid distribution ~ (C:\\Python312\\Lib\\site-packages)\n",
      "WARNING: Ignoring invalid distribution ~ip (C:\\Python312\\Lib\\site-packages)\n",
      "WARNING: Ignoring invalid distribution ~~p (C:\\Python312\\Lib\\site-packages)\n"
     ]
    }
   ],
   "source": [
    "#!pip install pyspark --user"
   ]
  },
  {
   "cell_type": "code",
   "execution_count": 6,
   "metadata": {},
   "outputs": [],
   "source": [
    "import sys\n",
    "\n",
    "from pyspark.sql import SparkSession\n",
    "from pyspark.sql.functions import count"
   ]
  },
  {
   "cell_type": "code",
   "execution_count": 7,
   "metadata": {},
   "outputs": [],
   "source": [
    "if __name__ == \"__main__\":\n",
    "    if len(sys.argv) != 2:\n",
    "        print(\"Usage: mnmcount <file>\", file=sys.stderr)\n",
    "        sys.exit(-1)"
   ]
  },
  {
   "cell_type": "code",
   "execution_count": 8,
   "metadata": {},
   "outputs": [],
   "source": [
    "spark = (SparkSession\n",
    "          .builder\n",
    "          .appName(\"PythonMnMCount\")\n",
    "          .getOrCreate()\n",
    ")"
   ]
  },
  {
   "cell_type": "code",
   "execution_count": 11,
   "metadata": {},
   "outputs": [],
   "source": [
    "mnm_df = (spark.read.format(\"csv\")\n",
    "          .option(\"header\",\"true\")\n",
    "          .option(\"inferSchema\",\"true\")\n",
    "          #.load(mnm_file))\n",
    "          .load(\"C:/Users/CarlosEnriqueJaramil/Desktop/BORRAR/ICESI/SPARK/spark-3.5.2-bin-hadoop3/projects/repositorio/MCD_PDN/book_projects/data/mnm_dataset.csv\"))"
   ]
  },
  {
   "cell_type": "code",
   "execution_count": 12,
   "metadata": {},
   "outputs": [],
   "source": [
    "count_mnm_df = (mnm_df\n",
    "                .select(\"State\",\"Color\",\"Count\")\n",
    "                .groupBy(\"State\",\"Color\")\n",
    "                .agg(count(\"Count\").alias(\"Total\"))\n",
    "                .orderBy(\"Total\", ascending=True)\n",
    " )"
   ]
  },
  {
   "cell_type": "code",
   "execution_count": 14,
   "metadata": {},
   "outputs": [
    {
     "name": "stdout",
     "output_type": "stream",
     "text": [
      "+-----+------+-----+\n",
      "|State|Color |Total|\n",
      "+-----+------+-----+\n",
      "|WY   |Brown |1532 |\n",
      "|UT   |Green |1591 |\n",
      "|WY   |Orange|1595 |\n",
      "|CA   |Blue  |1603 |\n",
      "|NV   |Red   |1610 |\n",
      "|TX   |Blue  |1614 |\n",
      "|OR   |Yellow|1614 |\n",
      "|OR   |Brown |1621 |\n",
      "|CO   |Red   |1624 |\n",
      "|WA   |Blue  |1625 |\n",
      "|WY   |Yellow|1626 |\n",
      "|UT   |Brown |1631 |\n",
      "|OR   |Green |1634 |\n",
      "|AZ   |Blue  |1636 |\n",
      "|NM   |Blue  |1638 |\n",
      "|TX   |Brown |1641 |\n",
      "|CO   |Orange|1642 |\n",
      "|UT   |Yellow|1645 |\n",
      "|OR   |Red   |1645 |\n",
      "|OR   |Blue  |1646 |\n",
      "|AZ   |Red   |1648 |\n",
      "|TX   |Orange|1652 |\n",
      "|AZ   |Yellow|1654 |\n",
      "|UT   |Blue  |1655 |\n",
      "|CA   |Red   |1656 |\n",
      "|CO   |Brown |1656 |\n",
      "|NV   |Brown |1657 |\n",
      "|CA   |Orange|1657 |\n",
      "|WA   |Orange|1658 |\n",
      "|WA   |Yellow|1663 |\n",
      "|WY   |Blue  |1664 |\n",
      "|NM   |Orange|1665 |\n",
      "|WA   |Brown |1669 |\n",
      "|WY   |Red   |1670 |\n",
      "|WA   |Red   |1671 |\n",
      "|NV   |Blue  |1673 |\n",
      "|NV   |Yellow|1675 |\n",
      "|AZ   |Green |1676 |\n",
      "|UT   |Red   |1680 |\n",
      "|NM   |Green |1682 |\n",
      "|UT   |Orange|1684 |\n",
      "|NM   |Brown |1687 |\n",
      "|NM   |Yellow|1688 |\n",
      "|AZ   |Orange|1689 |\n",
      "|NM   |Red   |1690 |\n",
      "|WY   |Green |1695 |\n",
      "|CO   |Blue  |1695 |\n",
      "|NV   |Green |1698 |\n",
      "|AZ   |Brown |1698 |\n",
      "|TX   |Yellow|1703 |\n",
      "|NV   |Orange|1712 |\n",
      "|CO   |Green |1713 |\n",
      "|CA   |Brown |1718 |\n",
      "|CO   |Yellow|1721 |\n",
      "|CA   |Green |1723 |\n",
      "|TX   |Red   |1725 |\n",
      "|TX   |Green |1737 |\n",
      "|OR   |Orange|1743 |\n",
      "|WA   |Green |1779 |\n",
      "|CA   |Yellow|1807 |\n",
      "+-----+------+-----+\n",
      "\n",
      "Total Rows = 60\n"
     ]
    }
   ],
   "source": [
    "count_mnm_df.show(n=60, truncate=False)\n",
    "print(\"Total Rows = %d\" % (count_mnm_df.count()))   "
   ]
  },
  {
   "cell_type": "code",
   "execution_count": 15,
   "metadata": {},
   "outputs": [],
   "source": [
    "ca_count_mnm_df = (mnm_df\n",
    "                   .select(\"State\",\"Color\",\"Count\")\n",
    "                   .where(mnm_df.State ==\"CA\")\n",
    "                   .groupBy(\"State\",\"Color\")\n",
    "                   .agg(count(\"Count\").alias(\"Total\"))\n",
    "                   .orderBy(\"Total\",ascending=False)\n",
    ")"
   ]
  },
  {
   "cell_type": "code",
   "execution_count": 16,
   "metadata": {},
   "outputs": [
    {
     "name": "stdout",
     "output_type": "stream",
     "text": [
      "+-----+------+-----+\n",
      "|State|Color |Total|\n",
      "+-----+------+-----+\n",
      "|CA   |Yellow|1807 |\n",
      "|CA   |Green |1723 |\n",
      "|CA   |Brown |1718 |\n",
      "|CA   |Orange|1657 |\n",
      "|CA   |Red   |1656 |\n",
      "|CA   |Blue  |1603 |\n",
      "+-----+------+-----+\n",
      "\n"
     ]
    }
   ],
   "source": [
    "ca_count_mnm_df.show(n=10, truncate=False)"
   ]
  },
  {
   "cell_type": "code",
   "execution_count": 17,
   "metadata": {},
   "outputs": [],
   "source": [
    "spark.stop()    "
   ]
  },
  {
   "cell_type": "code",
   "execution_count": null,
   "metadata": {},
   "outputs": [],
   "source": []
  }
 ],
 "metadata": {
  "kernelspec": {
   "display_name": "Python 3",
   "language": "python",
   "name": "python3"
  },
  "language_info": {
   "codemirror_mode": {
    "name": "ipython",
    "version": 3
   },
   "file_extension": ".py",
   "mimetype": "text/x-python",
   "name": "python",
   "nbconvert_exporter": "python",
   "pygments_lexer": "ipython3",
   "version": "3.12.2"
  }
 },
 "nbformat": 4,
 "nbformat_minor": 2
}
