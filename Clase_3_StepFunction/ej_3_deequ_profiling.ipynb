{
 "cells": [
  {
   "cell_type": "markdown",
   "id": "913fba91-848f-4405-a26a-04a5cb34e99d",
   "metadata": {},
   "source": [
    "### Single Column Profiling Example"
   ]
  },
  {
   "cell_type": "code",
   "execution_count": null,
   "id": "5ff6165c-f681-41a6-9514-fc829b4e8998",
   "metadata": {},
   "outputs": [],
   "source": [
    "#Configuracion inicial antes de correr Spark"
   ]
  },
  {
   "cell_type": "code",
   "execution_count": 1,
   "id": "e0db96e7-2e5b-4675-9f87-ec03def3c66e",
   "metadata": {},
   "outputs": [],
   "source": [
    "import os\n",
    "os.environ[\"SPARK_VERSION\"] = '3.3'\n",
    "os.environ[\"JAVA_HOME\"] = '/usr/lib/jvm/java-11-openjdk-amd64/'"
   ]
  },
  {
   "cell_type": "code",
   "execution_count": 2,
   "id": "a4476573-dfb3-4044-80da-85af7cfc7a23",
   "metadata": {
    "collapsed": true,
    "jupyter": {
     "outputs_hidden": true
    },
    "scrolled": true
   },
   "outputs": [
    {
     "name": "stdout",
     "output_type": "stream",
     "text": [
      "Requirement already satisfied: pydeequ==1.2.0 in /opt/conda/lib/python3.10/site-packages (1.2.0)\n",
      "Requirement already satisfied: numpy>=1.14.1 in /opt/conda/lib/python3.10/site-packages (from pydeequ==1.2.0) (1.26.4)\n",
      "Requirement already satisfied: pandas>=0.23.0 in /opt/conda/lib/python3.10/site-packages (from pydeequ==1.2.0) (2.1.4)\n",
      "Requirement already satisfied: python-dateutil>=2.8.2 in /opt/conda/lib/python3.10/site-packages (from pandas>=0.23.0->pydeequ==1.2.0) (2.9.0)\n",
      "Requirement already satisfied: pytz>=2020.1 in /opt/conda/lib/python3.10/site-packages (from pandas>=0.23.0->pydeequ==1.2.0) (2023.3)\n",
      "Requirement already satisfied: tzdata>=2022.1 in /opt/conda/lib/python3.10/site-packages (from pandas>=0.23.0->pydeequ==1.2.0) (2024.1)\n",
      "Requirement already satisfied: six>=1.5 in /opt/conda/lib/python3.10/site-packages (from python-dateutil>=2.8.2->pandas>=0.23.0->pydeequ==1.2.0) (1.16.0)\n",
      "Note: you may need to restart the kernel to use updated packages.\n"
     ]
    }
   ],
   "source": [
    "pip install pydeequ==1.2.0"
   ]
  },
  {
   "cell_type": "code",
   "execution_count": 3,
   "id": "77cc2966-c895-4618-8c1d-71a7e531382e",
   "metadata": {
    "collapsed": true,
    "jupyter": {
     "outputs_hidden": true
    },
    "scrolled": true
   },
   "outputs": [
    {
     "name": "stdout",
     "output_type": "stream",
     "text": [
      "Requirement already satisfied: pyspark in /opt/conda/lib/python3.10/site-packages (3.3.0)\n",
      "Requirement already satisfied: py4j==0.10.9.5 in /opt/conda/lib/python3.10/site-packages (from pyspark) (0.10.9.5)\n",
      "Note: you may need to restart the kernel to use updated packages.\n"
     ]
    }
   ],
   "source": [
    "pip install pyspark"
   ]
  },
  {
   "cell_type": "code",
   "execution_count": 4,
   "id": "2bc34255-d323-4800-ba15-8316bb2671bf",
   "metadata": {
    "collapsed": true,
    "jupyter": {
     "outputs_hidden": true
    },
    "scrolled": true
   },
   "outputs": [
    {
     "name": "stdout",
     "output_type": "stream",
     "text": [
      "Requirement already satisfied: sagemaker_pyspark in /opt/conda/lib/python3.10/site-packages (1.4.5)\n",
      "Requirement already satisfied: pyspark==3.3.0 in /opt/conda/lib/python3.10/site-packages (from sagemaker_pyspark) (3.3.0)\n",
      "Requirement already satisfied: numpy in /opt/conda/lib/python3.10/site-packages (from sagemaker_pyspark) (1.26.4)\n",
      "Requirement already satisfied: py4j==0.10.9.5 in /opt/conda/lib/python3.10/site-packages (from pyspark==3.3.0->sagemaker_pyspark) (0.10.9.5)\n",
      "Note: you may need to restart the kernel to use updated packages.\n"
     ]
    }
   ],
   "source": [
    "pip install sagemaker_pyspark"
   ]
  },
  {
   "cell_type": "code",
   "execution_count": 5,
   "id": "1912a50c-f772-42ab-a07c-c0bf83bf7b1f",
   "metadata": {},
   "outputs": [],
   "source": [
    "### Ejemplo de profiling"
   ]
  },
  {
   "cell_type": "code",
   "execution_count": 9,
   "id": "32f8ca5c-21a7-4568-8d44-ff0c1fe6ccf7",
   "metadata": {},
   "outputs": [],
   "source": [
    "import pydeequ\n",
    "\n",
    "import sagemaker_pyspark\n",
    "from pyspark.sql import SparkSession, Row\n",
    "from pydeequ.profiles import *"
   ]
  },
  {
   "cell_type": "code",
   "execution_count": 6,
   "id": "db4cf0bc-af1a-4a24-b694-5a9bd09b4cea",
   "metadata": {
    "collapsed": true,
    "jupyter": {
     "outputs_hidden": true
    },
    "scrolled": true
   },
   "outputs": [
    {
     "name": "stdout",
     "output_type": "stream",
     "text": [
      ":: loading settings :: url = jar:file:/opt/conda/lib/python3.10/site-packages/pyspark/jars/ivy-2.5.0.jar!/org/apache/ivy/core/settings/ivysettings.xml\n"
     ]
    },
    {
     "name": "stderr",
     "output_type": "stream",
     "text": [
      "Ivy Default Cache set to: /home/sagemaker-user/.ivy2/cache\n",
      "The jars for the packages stored in: /home/sagemaker-user/.ivy2/jars\n",
      "com.amazon.deequ#deequ added as a dependency\n",
      ":: resolving dependencies :: org.apache.spark#spark-submit-parent-3f2bfb93-39f0-4c33-81c6-5fa5eaec88fd;1.0\n",
      "\tconfs: [default]\n",
      "\tfound com.amazon.deequ#deequ;2.0.3-spark-3.3 in central\n",
      "\tfound org.scala-lang#scala-reflect;2.12.10 in central\n",
      "\tfound org.scalanlp#breeze_2.12;0.13.2 in central\n",
      "\tfound org.scalanlp#breeze-macros_2.12;0.13.2 in central\n",
      "\tfound com.github.fommil.netlib#core;1.1.2 in central\n",
      "\tfound net.sf.opencsv#opencsv;2.3 in central\n",
      "\tfound com.github.rwl#jtransforms;2.4.0 in central\n",
      "\tfound junit#junit;4.8.2 in central\n",
      "\tfound org.apache.commons#commons-math3;3.2 in central\n",
      "\tfound org.spire-math#spire_2.12;0.13.0 in central\n",
      "\tfound org.spire-math#spire-macros_2.12;0.13.0 in central\n",
      "\tfound org.typelevel#machinist_2.12;0.6.1 in central\n",
      "\tfound com.chuusai#shapeless_2.12;2.3.2 in central\n",
      "\tfound org.typelevel#macro-compat_2.12;1.1.1 in central\n",
      "\tfound org.slf4j#slf4j-api;1.7.5 in central\n",
      ":: resolution report :: resolve 1134ms :: artifacts dl 98ms\n",
      "\t:: modules in use:\n",
      "\tcom.amazon.deequ#deequ;2.0.3-spark-3.3 from central in [default]\n",
      "\tcom.chuusai#shapeless_2.12;2.3.2 from central in [default]\n",
      "\tcom.github.fommil.netlib#core;1.1.2 from central in [default]\n",
      "\tcom.github.rwl#jtransforms;2.4.0 from central in [default]\n",
      "\tjunit#junit;4.8.2 from central in [default]\n",
      "\tnet.sf.opencsv#opencsv;2.3 from central in [default]\n",
      "\torg.apache.commons#commons-math3;3.2 from central in [default]\n",
      "\torg.scala-lang#scala-reflect;2.12.10 from central in [default]\n",
      "\torg.scalanlp#breeze-macros_2.12;0.13.2 from central in [default]\n",
      "\torg.scalanlp#breeze_2.12;0.13.2 from central in [default]\n",
      "\torg.slf4j#slf4j-api;1.7.5 from central in [default]\n",
      "\torg.spire-math#spire-macros_2.12;0.13.0 from central in [default]\n",
      "\torg.spire-math#spire_2.12;0.13.0 from central in [default]\n",
      "\torg.typelevel#machinist_2.12;0.6.1 from central in [default]\n",
      "\torg.typelevel#macro-compat_2.12;1.1.1 from central in [default]\n",
      "\t:: evicted modules:\n",
      "\torg.scala-lang#scala-reflect;2.12.1 by [org.scala-lang#scala-reflect;2.12.10] in [default]\n",
      "\torg.scala-lang#scala-reflect;2.12.0 by [org.scala-lang#scala-reflect;2.12.10] in [default]\n",
      "\t---------------------------------------------------------------------\n",
      "\t|                  |            modules            ||   artifacts   |\n",
      "\t|       conf       | number| search|dwnlded|evicted|| number|dwnlded|\n",
      "\t---------------------------------------------------------------------\n",
      "\t|      default     |   17  |   0   |   0   |   2   ||   15  |   0   |\n",
      "\t---------------------------------------------------------------------\n",
      ":: retrieving :: org.apache.spark#spark-submit-parent-3f2bfb93-39f0-4c33-81c6-5fa5eaec88fd\n",
      "\tconfs: [default]\n",
      "\t0 artifacts copied, 15 already retrieved (0kB/38ms)\n"
     ]
    },
    {
     "name": "stdout",
     "output_type": "stream",
     "text": [
      "24/09/09 02:08:15 WARN NativeCodeLoader: Unable to load native-hadoop library for your platform... using builtin-java classes where applicable\n"
     ]
    },
    {
     "name": "stderr",
     "output_type": "stream",
     "text": [
      "Setting default log level to \"WARN\".\n",
      "To adjust logging level use sc.setLogLevel(newLevel). For SparkR, use setLogLevel(newLevel).\n"
     ]
    },
    {
     "name": "stdout",
     "output_type": "stream",
     "text": [
      "24/09/09 02:08:18 WARN Utils: Service 'SparkUI' could not bind on port 4040. Attempting port 4041.\n",
      "24/09/09 02:08:18 WARN Utils: Service 'SparkUI' could not bind on port 4041. Attempting port 4042.\n"
     ]
    }
   ],
   "source": [
    "classpath = \":\".join(sagemaker_pyspark.classpath_jars()) # aws-specific jars\n",
    "\n",
    "spark = (SparkSession\n",
    "    .builder\n",
    "    .config(\"spark.driver.extraClassPath\", classpath)\n",
    "    .config(\"spark.jars.packages\", pydeequ.deequ_maven_coord)\n",
    "    .config(\"spark.jars.excludes\", pydeequ.f2j_maven_coord)\n",
    "    .getOrCreate())"
   ]
  },
  {
   "cell_type": "code",
   "execution_count": 7,
   "id": "49e13aab-45ad-42e0-b00b-78a88608fed6",
   "metadata": {},
   "outputs": [
    {
     "name": "stderr",
     "output_type": "stream",
     "text": [
      "                                                                                \r"
     ]
    }
   ],
   "source": [
    "df = spark.sparkContext.parallelize([\n",
    "    Row(productName=\"thingA\", totalNumber=\"13.0\", status=\"IN_TRANSIT\", valuable=\"true\"),\n",
    "    Row(productName=\"thingA\", totalNumber=\"5\", status=\"DELAYED\", valuable=\"false\"),\n",
    "    Row(productName=\"thingB\", totalNumber=None, status=\"DELAYED\", valuable=None),\n",
    "    Row(productName=\"thingC\", totalNumber=None, status=\"IN_TRANSIT\", valuable=\"false\"),\n",
    "    Row(productName=\"thingD\", totalNumber=\"1.0\", status=\"DELAYED\", valuable=\"true\"),\n",
    "    Row(productName=\"thingC\", totalNumber=\"7.0\", status=\"UNKNOWN\", valuable=None),\n",
    "    Row(productName=\"thingC\", totalNumber=\"20\", status=\"UNKNOWN\", valuable=None),\n",
    "    Row(productName=\"thingE\", totalNumber=\"20\", status=\"DELAYED\", valuable=\"false\")]).toDF()"
   ]
  },
  {
   "cell_type": "code",
   "execution_count": 8,
   "id": "e7d81baa-dfb2-4ebe-9817-36fd843c7bd2",
   "metadata": {},
   "outputs": [
    {
     "name": "stdout",
     "output_type": "stream",
     "text": [
      "root\n",
      " |-- productName: string (nullable = true)\n",
      " |-- totalNumber: string (nullable = true)\n",
      " |-- status: string (nullable = true)\n",
      " |-- valuable: string (nullable = true)\n",
      "\n",
      "None\n"
     ]
    }
   ],
   "source": [
    "print(df.printSchema())"
   ]
  },
  {
   "cell_type": "code",
   "execution_count": 10,
   "id": "27973af3-7ce2-4c20-8879-21d1fe3843dd",
   "metadata": {},
   "outputs": [
    {
     "name": "stdout",
     "output_type": "stream",
     "text": [
      "24/09/09 02:09:27 WARN package: Truncated the string representation of a plan since it was too large. This behavior can be adjusted by setting 'spark.sql.debug.maxToStringFields'.\n"
     ]
    },
    {
     "name": "stderr",
     "output_type": "stream",
     "text": [
      "                                                                                \r"
     ]
    }
   ],
   "source": [
    "result = ColumnProfilerRunner(spark) \\\n",
    "            .onData(df) \\\n",
    "            .run()"
   ]
  },
  {
   "cell_type": "code",
   "execution_count": 11,
   "id": "14df6bd7-082e-4326-baa6-abb9228947b8",
   "metadata": {},
   "outputs": [
    {
     "name": "stdout",
     "output_type": "stream",
     "text": [
      "Column 'productName'\n",
      "\t completeness: 1.0\n",
      "\t approximate number of distinct values: 5\n",
      "\t datatype: String\n",
      "Column 'totalNumber'\n",
      "\t completeness: 0.75\n",
      "\t approximate number of distinct values: 5\n",
      "\t datatype: Fractional\n",
      "Column 'status'\n",
      "\t completeness: 1.0\n",
      "\t approximate number of distinct values: 3\n",
      "\t datatype: String\n",
      "Column 'valuable'\n",
      "\t completeness: 0.625\n",
      "\t approximate number of distinct values: 2\n",
      "\t datatype: Boolean\n"
     ]
    }
   ],
   "source": [
    "for col, profile in result.profiles.items():\n",
    "    print(f'Column \\'{col}\\'')\n",
    "    print('\\t',f'completeness: {profile.completeness}')\n",
    "    print('\\t',f'approximate number of distinct values: {profile.approximateNumDistinctValues}')\n",
    "    print('\\t',f'datatype: {profile.dataType}')"
   ]
  },
  {
   "cell_type": "code",
   "execution_count": 12,
   "id": "73af6aaf-2281-4251-ad4b-5a9ecaabec12",
   "metadata": {},
   "outputs": [
    {
     "name": "stdout",
     "output_type": "stream",
     "text": [
      "Statistics of 'totalNumber':\n",
      "\t minimum: 1.0\n",
      "\t maximum: 20.0\n",
      "\t mean: 11.0\n",
      "\t standard deviation: 7.280109889280518\n"
     ]
    }
   ],
   "source": [
    "totalNumber_profile = result.profiles['totalNumber']\n",
    "\n",
    "print(f'Statistics of \\'totalNumber\\':')\n",
    "print('\\t',f\"minimum: {totalNumber_profile.minimum}\")\n",
    "print('\\t',f\"maximum: {totalNumber_profile.maximum}\")\n",
    "print('\\t',f\"mean: {totalNumber_profile.mean}\")\n",
    "print('\\t',f\"standard deviation: {totalNumber_profile.stdDev}\")"
   ]
  },
  {
   "cell_type": "code",
   "execution_count": 13,
   "id": "d6598aa7-9146-4ad3-b60b-a9ebbf3dd92a",
   "metadata": {},
   "outputs": [
    {
     "name": "stdout",
     "output_type": "stream",
     "text": [
      "Value distribution in 'status':\n",
      "\t IN_TRANSIT occurred 2 times (ratio is 0.25)\n",
      "\t UNKNOWN occurred 2 times (ratio is 0.25)\n",
      "\t DELAYED occurred 4 times (ratio is 0.5)\n"
     ]
    }
   ],
   "source": [
    "status_profile = result.profiles['status']\n",
    "\n",
    "print('Value distribution in \\'status\\':')\n",
    "for unique_entry in status_profile.histogram: \n",
    "    print('\\t',f\"{unique_entry.value} occurred {unique_entry.count} times (ratio is {unique_entry.ratio})\")"
   ]
  },
  {
   "cell_type": "code",
   "execution_count": null,
   "id": "95b56be9-b697-480a-8197-9883fcb9bd26",
   "metadata": {},
   "outputs": [],
   "source": []
  }
 ],
 "metadata": {
  "kernelspec": {
   "display_name": "Python 3 (ipykernel)",
   "language": "python",
   "name": "python3"
  },
  "language_info": {
   "codemirror_mode": {
    "name": "ipython",
    "version": 3
   },
   "file_extension": ".py",
   "mimetype": "text/x-python",
   "name": "python",
   "nbconvert_exporter": "python",
   "pygments_lexer": "ipython3",
   "version": "3.10.14"
  }
 },
 "nbformat": 4,
 "nbformat_minor": 5
}
